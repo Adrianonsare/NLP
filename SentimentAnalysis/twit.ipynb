{
 "cells": [
  {
   "cell_type": "code",
   "execution_count": 3,
   "metadata": {},
   "outputs": [],
   "source": [
    "from pytwitter import Api,StreamApi\n",
    "import config\n",
    "stream_api = StreamApi(bearer_token=config.bearer_token)"
   ]
  },
  {
   "cell_type": "code",
   "execution_count": null,
   "metadata": {},
   "outputs": [],
   "source": []
  },
  {
   "cell_type": "code",
   "execution_count": null,
   "metadata": {},
   "outputs": [],
   "source": []
  },
  {
   "cell_type": "code",
   "execution_count": 27,
   "metadata": {},
   "outputs": [],
   "source": [
    "# Define the search term and the date_since date as variables\n",
    "search_words = \"#wildfires\"\n",
    "date_since = \"2022-03-16\""
   ]
  },
  {
   "cell_type": "code",
   "execution_count": 51,
   "metadata": {},
   "outputs": [],
   "source": [
    "# query to search for tweets\n",
    "query = (\"kplc tokens OR sell kplc tokens OR we sell kplc\")\n",
    "\n",
    "# your start and end time for fetching tweets\n",
    "start_time = \"2022-03-21T00:00:00Z\"\n",
    "end_time = \"2022-03-21T16:00:00Z\"\n",
    "\n",
    "# get tweets from the API\n",
    "tweets = client.search_recent_tweets(query=query,\n",
    "                                     start_time=start_time,\n",
    "                                     end_time=end_time,\n",
    "                                     tweet_fields = [\"created_at\", \"text\", \"source\"],\n",
    "                                     user_fields = [\"name\", \"username\", \"location\", \"verified\", \"description\"],\n",
    "                                     max_results = 10,\n",
    "                                     expansions='author_id'\n",
    "                                     )\n"
   ]
  },
  {
   "cell_type": "code",
   "execution_count": 52,
   "metadata": {},
   "outputs": [
    {
     "data": {
      "text/plain": [
       "[<Tweet id=1505908520947961857 text='@KeEquityBank I did a transaction to buy KPLC Token, my account was debited but I never received the tokens'>,\n",
       " <Tweet id=1505810719039700995 text='@KPLC7News Hello, I paid for tokens on March 4th through 501200 business number acc. 37181220692 but I didn\\'t receive the message to feed tokens.  The message that I got stated that, \"OK|KPLC system delayed. Will keep trying &amp; resend your transaction.\"\\nCan I get a reversal or tokens to feed'>,\n",
       " <Tweet id=1505787268166037505 text='@Jazapay @KenyaPower_Care kplc buy tokens pre-paid is not working today.'>,\n",
       " <Tweet id=1505783307652501504 text='@oscarmusundi We are currently experiencing delays in processing KPLC Tokens.\\xa0 We are working on to resolve this and we will inform you once the service is working well, apologies for the delays experienced ^CO'>]"
      ]
     },
     "execution_count": 52,
     "metadata": {},
     "output_type": "execute_result"
    }
   ],
   "source": [
    "tweets.data[0:100]"
   ]
  },
  {
   "cell_type": "code",
   "execution_count": 53,
   "metadata": {},
   "outputs": [
    {
     "data": {
      "text/html": [
       "<div>\n",
       "<style scoped>\n",
       "    .dataframe tbody tr th:only-of-type {\n",
       "        vertical-align: middle;\n",
       "    }\n",
       "\n",
       "    .dataframe tbody tr th {\n",
       "        vertical-align: top;\n",
       "    }\n",
       "\n",
       "    .dataframe thead th {\n",
       "        text-align: right;\n",
       "    }\n",
       "</style>\n",
       "<table border=\"1\" class=\"dataframe\">\n",
       "  <thead>\n",
       "    <tr style=\"text-align: right;\">\n",
       "      <th></th>\n",
       "      <th>created_at</th>\n",
       "      <th>text</th>\n",
       "      <th>source</th>\n",
       "      <th>name</th>\n",
       "      <th>username</th>\n",
       "      <th>location</th>\n",
       "      <th>verified</th>\n",
       "      <th>description</th>\n",
       "    </tr>\n",
       "  </thead>\n",
       "  <tbody>\n",
       "    <tr>\n",
       "      <th>0</th>\n",
       "      <td>2022-03-21 14:05:44+00:00</td>\n",
       "      <td>@KeEquityBank I did a transaction to buy KPLC ...</td>\n",
       "      <td>Twitter for Android</td>\n",
       "      <td>GOK</td>\n",
       "      <td>OkGira</td>\n",
       "      <td>Nairobi</td>\n",
       "      <td>False</td>\n",
       "      <td>Entrepreneur. He is the founder, CEO at Halcón...</td>\n",
       "    </tr>\n",
       "    <tr>\n",
       "      <th>1</th>\n",
       "      <td>2022-03-21 07:37:06+00:00</td>\n",
       "      <td>@KPLC7News Hello, I paid for tokens on March 4...</td>\n",
       "      <td>Twitter for Android</td>\n",
       "      <td>Joyce Jackson</td>\n",
       "      <td>Joycewangui718</td>\n",
       "      <td>Nakuru, Kenya</td>\n",
       "      <td>False</td>\n",
       "      <td></td>\n",
       "    </tr>\n",
       "    <tr>\n",
       "      <th>2</th>\n",
       "      <td>2022-03-21 06:03:55+00:00</td>\n",
       "      <td>@Jazapay @KenyaPower_Care kplc buy tokens pre-...</td>\n",
       "      <td>Twitter Web App</td>\n",
       "      <td>SNS_S_MAGICO</td>\n",
       "      <td>Safwan20205</td>\n",
       "      <td>MOMBASA, KENYA</td>\n",
       "      <td>False</td>\n",
       "      <td>22.08.2020💘</td>\n",
       "    </tr>\n",
       "    <tr>\n",
       "      <th>3</th>\n",
       "      <td>2022-03-21 05:48:11+00:00</td>\n",
       "      <td>@oscarmusundi We are currently experiencing de...</td>\n",
       "      <td>Freshdesk</td>\n",
       "      <td>Tingg</td>\n",
       "      <td>TinggAfrica</td>\n",
       "      <td>Kenya, ghana, uganda, tanzania</td>\n",
       "      <td>False</td>\n",
       "      <td>Experience the most convenient, fast and secur...</td>\n",
       "    </tr>\n",
       "  </tbody>\n",
       "</table>\n",
       "</div>"
      ],
      "text/plain": [
       "                 created_at  \\\n",
       "0 2022-03-21 14:05:44+00:00   \n",
       "1 2022-03-21 07:37:06+00:00   \n",
       "2 2022-03-21 06:03:55+00:00   \n",
       "3 2022-03-21 05:48:11+00:00   \n",
       "\n",
       "                                                text               source  \\\n",
       "0  @KeEquityBank I did a transaction to buy KPLC ...  Twitter for Android   \n",
       "1  @KPLC7News Hello, I paid for tokens on March 4...  Twitter for Android   \n",
       "2  @Jazapay @KenyaPower_Care kplc buy tokens pre-...      Twitter Web App   \n",
       "3  @oscarmusundi We are currently experiencing de...            Freshdesk   \n",
       "\n",
       "            name        username                        location  verified  \\\n",
       "0            GOK          OkGira                         Nairobi     False   \n",
       "1  Joyce Jackson  Joycewangui718                   Nakuru, Kenya     False   \n",
       "2   SNS_S_MAGICO     Safwan20205                  MOMBASA, KENYA     False   \n",
       "3          Tingg     TinggAfrica  Kenya, ghana, uganda, tanzania     False   \n",
       "\n",
       "                                         description  \n",
       "0  Entrepreneur. He is the founder, CEO at Halcón...  \n",
       "1                                                     \n",
       "2                                        22.08.2020💘  \n",
       "3  Experience the most convenient, fast and secur...  "
      ]
     },
     "execution_count": 53,
     "metadata": {},
     "output_type": "execute_result"
    }
   ],
   "source": [
    "# import the pandas library\n",
    "import pandas as pd\n",
    "# create a list of records\n",
    "tweet_info_ls = []\n",
    "# iterate over each tweet and corresponding user details\n",
    "for tweet, user in zip(tweets.data, tweets.includes['users']):\n",
    "    tweet_info = {\n",
    "        'created_at': tweet.created_at,\n",
    "        'text': tweet.text,\n",
    "        'source': tweet.source,\n",
    "        'name': user.name,\n",
    "        'username': user.username,\n",
    "        'location': user.location,\n",
    "        'verified': user.verified,\n",
    "        'description': user.description\n",
    "    }\n",
    "    tweet_info_ls.append(tweet_info)\n",
    "# create dataframe from the extracted records\n",
    "tweets_df = pd.DataFrame(tweet_info_ls)\n",
    "# display the dataframe\n",
    "tweets_df.head()\n"
   ]
  }
 ],
 "metadata": {
  "interpreter": {
   "hash": "1e1051260ebfa8febfd1a648253c8473ff11c421218a938225e931ec9099b35c"
  },
  "kernelspec": {
   "display_name": "Python 3.9.7 ('base')",
   "language": "python",
   "name": "python3"
  },
  "language_info": {
   "codemirror_mode": {
    "name": "ipython",
    "version": 3
   },
   "file_extension": ".py",
   "mimetype": "text/x-python",
   "name": "python",
   "nbconvert_exporter": "python",
   "pygments_lexer": "ipython3",
   "version": "3.9.7"
  },
  "orig_nbformat": 4
 },
 "nbformat": 4,
 "nbformat_minor": 2
}
